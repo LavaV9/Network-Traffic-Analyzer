{
 "cells": [
  {
   "cell_type": "code",
   "execution_count": 1,
   "id": "68f7e6e3-2fdf-4bf5-87b3-938b5f454946",
   "metadata": {},
   "outputs": [
    {
     "name": "stderr",
     "output_type": "stream",
     "text": [
      "WARNING: Wireshark is installed, but cannot read manuf !\n"
     ]
    }
   ],
   "source": [
    "from scapy.all import *"
   ]
  },
  {
   "cell_type": "code",
   "execution_count": 2,
   "id": "d7949f0b-46e0-4cd2-8a33-d0bce3b52c05",
   "metadata": {},
   "outputs": [],
   "source": [
    "# will \"capture\" the packets\n",
    "def packet_interceptor(packet):\n",
    "    #Checking Packet Layer\n",
    "    if packet.haslayer(ICMP):\n",
    "        \n",
    "        #IP Source of Packet\n",
    "        ip_source = packet[IP].src\n",
    "\n",
    "        #IP Destination of Destination\n",
    "        ip_destination = packet[IP].dst\n",
    "        \n",
    "        #ICMP Layer of Packet, retrives the type (Type 0: Echo Request, Type 3: Destination Unreachable, or Type 8: Echo Reply)\n",
    "        ICMP_type = packet[ICMP].type\n",
    "        \n",
    "        #ICMP Layer of Packet, will tell what is unreachable if Type 3 \n",
    "        #Code 0: Network Unreachable\n",
    "        #Code 1: Host Unreachable\n",
    "        #Code 2: Protocol Unreachable\n",
    "        #Code 3: Port Unreachable\n",
    "        ICMP_code = packet[ICMP].code\n",
    "        \n",
    "        #Time when Packet was Inercepted\n",
    "        response_time = packet.time\n",
    "        \n",
    "        print(\"ICMP Packet Intercepted:\")\n",
    "        print(\"Source IP: \" + ip_source)\n",
    "        print(\"Destination IP: \" + ip_destination)\n",
    "        print(\"ICMP Type: \" + str(ICMP_type))\n",
    "        print(\"ICMP Code: \" + str(ICMP_code))\n",
    "        print(\"Response Time: \" + str(response_time))\n",
    "        print(\"-\" * 100)\n",
    "        "
   ]
  },
  {
   "cell_type": "code",
   "execution_count": null,
   "id": "c18f9bbd-23b7-4ee9-9015-8888ab413ab7",
   "metadata": {},
   "outputs": [],
   "source": [
    "count = int(input(\"How many packets would you like to capture?: \"))"
   ]
  },
  {
   "cell_type": "code",
   "execution_count": null,
   "id": "eb2c43d5-7fe7-4f35-b2ff-34d06a096363",
   "metadata": {},
   "outputs": [],
   "source": [
    "sniff(filter=\"icmp\", prn=packet_interceptor, count=count)"
   ]
  }
 ],
 "metadata": {
  "kernelspec": {
   "display_name": "Python 3 (ipykernel)",
   "language": "python",
   "name": "python3"
  },
  "language_info": {
   "codemirror_mode": {
    "name": "ipython",
    "version": 3
   },
   "file_extension": ".py",
   "mimetype": "text/x-python",
   "name": "python",
   "nbconvert_exporter": "python",
   "pygments_lexer": "ipython3",
   "version": "3.12.2"
  }
 },
 "nbformat": 4,
 "nbformat_minor": 5
}
